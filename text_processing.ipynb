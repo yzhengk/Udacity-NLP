{
 "cells": [
  {
   "cell_type": "markdown",
   "metadata": {},
   "source": [
    "# Text Processing\n",
    "\n",
    "## Capturing Text Data\n",
    "\n",
    "### Plain Text"
   ]
  },
  {
   "cell_type": "code",
   "execution_count": 1,
   "metadata": {},
   "outputs": [
    {
     "name": "stdout",
     "output_type": "stream",
     "text": [
      "Hieroglyphic writing dates from c. 3000 BC, and is composed of hundreds of symbols. A hieroglyph can represent a word, a sound, or a silent determinative; and the same symbol can serve different purposes in different contexts. Hieroglyphs were a formal script, used on stone monuments and in tombs, that could be as detailed as individual works of art.\n",
      "\n"
     ]
    }
   ],
   "source": [
    "import os\n",
    "\n",
    "# Read in a plain text file\n",
    "with open(os.path.join(\"data\", \"hieroglyph.txt\"), \"r\") as f:\n",
    "    text = f.read()\n",
    "    print(text)"
   ]
  },
  {
   "cell_type": "markdown",
   "metadata": {},
   "source": [
    "### Tabular Data"
   ]
  },
  {
   "cell_type": "code",
   "execution_count": 2,
   "metadata": {
    "scrolled": true
   },
   "outputs": [
    {
     "data": {
      "text/html": [
       "<div>\n",
       "<style scoped>\n",
       "    .dataframe tbody tr th:only-of-type {\n",
       "        vertical-align: middle;\n",
       "    }\n",
       "\n",
       "    .dataframe tbody tr th {\n",
       "        vertical-align: top;\n",
       "    }\n",
       "\n",
       "    .dataframe thead th {\n",
       "        text-align: right;\n",
       "    }\n",
       "</style>\n",
       "<table border=\"1\" class=\"dataframe\">\n",
       "  <thead>\n",
       "    <tr style=\"text-align: right;\">\n",
       "      <th></th>\n",
       "      <th>publisher</th>\n",
       "      <th>title</th>\n",
       "    </tr>\n",
       "  </thead>\n",
       "  <tbody>\n",
       "    <tr>\n",
       "      <th>0</th>\n",
       "      <td>Livemint</td>\n",
       "      <td>fed's charles plosser sees high bar for change...</td>\n",
       "    </tr>\n",
       "    <tr>\n",
       "      <th>1</th>\n",
       "      <td>IFA Magazine</td>\n",
       "      <td>us open: stocks fall after fed official hints ...</td>\n",
       "    </tr>\n",
       "    <tr>\n",
       "      <th>2</th>\n",
       "      <td>IFA Magazine</td>\n",
       "      <td>fed risks falling 'behind the curve', charles ...</td>\n",
       "    </tr>\n",
       "    <tr>\n",
       "      <th>3</th>\n",
       "      <td>Moneynews</td>\n",
       "      <td>fed's plosser: nasty weather has curbed job gr...</td>\n",
       "    </tr>\n",
       "    <tr>\n",
       "      <th>4</th>\n",
       "      <td>NASDAQ</td>\n",
       "      <td>plosser: fed may have to accelerate tapering pace</td>\n",
       "    </tr>\n",
       "  </tbody>\n",
       "</table>\n",
       "</div>"
      ],
      "text/plain": [
       "      publisher                                              title\n",
       "0      Livemint  fed's charles plosser sees high bar for change...\n",
       "1  IFA Magazine  us open: stocks fall after fed official hints ...\n",
       "2  IFA Magazine  fed risks falling 'behind the curve', charles ...\n",
       "3     Moneynews  fed's plosser: nasty weather has curbed job gr...\n",
       "4        NASDAQ  plosser: fed may have to accelerate tapering pace"
      ]
     },
     "execution_count": 2,
     "metadata": {},
     "output_type": "execute_result"
    }
   ],
   "source": [
    "import pandas as pd\n",
    "\n",
    "# Extract text column from a dataframe\n",
    "df = pd.read_csv(os.path.join(\"data\", \"news.csv\"))\n",
    "df.head()[['publisher', 'title']]\n",
    "\n",
    "# Convert text column to lowercase\n",
    "df['title'] = df['title'].str.lower()\n",
    "df.head()[['publisher', 'title']]"
   ]
  },
  {
   "cell_type": "markdown",
   "metadata": {},
   "source": [
    "### Online Resource"
   ]
  },
  {
   "cell_type": "code",
   "execution_count": 3,
   "metadata": {
    "scrolled": true
   },
   "outputs": [
    {
     "name": "stdout",
     "output_type": "stream",
     "text": [
      "{\n",
      "    \"success\": {\n",
      "        \"total\": 1\n",
      "    },\n",
      "    \"contents\": {\n",
      "        \"quotes\": [\n",
      "            {\n",
      "                \"quote\": \"A successful man is one who can lay a firm foundation with the bricks that others throw at him.\",\n",
      "                \"length\": \"95\",\n",
      "                \"author\": \"Sidney Greenberg\",\n",
      "                \"tags\": [\n",
      "                    \"inspire\",\n",
      "                    \"life\",\n",
      "                    \"success\"\n",
      "                ],\n",
      "                \"category\": \"inspire\",\n",
      "                \"language\": \"en\",\n",
      "                \"date\": \"2020-12-02\",\n",
      "                \"permalink\": \"https://theysaidso.com/quote/sidney-greenberg-a-successful-man-is-one-who-can-lay-a-firm-foundation-with-the\",\n",
      "                \"id\": \"O8OiauUuV2FEq8DZElUNwQeF\",\n",
      "                \"background\": \"https://theysaidso.com/img/qod/qod-inspire.jpg\",\n",
      "                \"title\": \"Inspiring Quote of the day\"\n",
      "            }\n",
      "        ]\n",
      "    },\n",
      "    \"baseurl\": \"https://theysaidso.com\",\n",
      "    \"copyright\": {\n",
      "        \"year\": 2022,\n",
      "        \"url\": \"https://theysaidso.com\"\n",
      "    }\n",
      "}\n",
      "A successful man is one who can lay a firm foundation with the bricks that others throw at him. \n",
      "-- Sidney Greenberg\n"
     ]
    }
   ],
   "source": [
    "import requests\n",
    "import json\n",
    "\n",
    "# Fetch data from a REST API\n",
    "r = requests.get(\n",
    "    \"https://quotes.rest/qod.json\")\n",
    "res = r.json()\n",
    "print(json.dumps(res, indent=4))\n",
    "\n",
    "# Extract relevant object and field\n",
    "q = res[\"contents\"][\"quotes\"][0]\n",
    "print(q[\"quote\"], \"\\n--\", q[\"author\"])"
   ]
  },
  {
   "cell_type": "markdown",
   "metadata": {},
   "source": [
    "## Cleaning"
   ]
  },
  {
   "cell_type": "code",
   "execution_count": 4,
   "metadata": {
    "scrolled": true
   },
   "outputs": [
    {
     "name": "stdout",
     "output_type": "stream",
     "text": [
      "<html lang=\"en\" op=\"news\"><head><meta name=\"referrer\" content=\"origin\"><meta name=\"viewport\" content=\"width=device-width, initial-scale=1.0\"><link rel=\"stylesheet\" type=\"text/css\" href=\"news.css?7xnRK0pv8n1Oh7woNqhn\">\n",
      "        <link rel=\"shortcut icon\" href=\"favicon.ico\">\n",
      "          <link rel=\"alternate\" type=\"application/rss+xml\" title=\"RSS\" href=\"rss\">\n",
      "        <title>Hacker News</title></head><body><center><table id=\"hnmain\" border=\"0\" cellpadding=\"0\" cellspacing=\"0\" width=\"85%\" bgcolor=\"#f6f6ef\">\n",
      "        <tr><td bgcolor=\"#ff6600\"><table border=\"0\" cellpadding=\"0\" cellspacing=\"0\" width=\"100%\" style=\"padding:2px\"><tr><td style=\"width:18px;padding-right:4px\"><a href=\"https://news.ycombinator.com\"><img src=\"y18.gif\" width=\"18\" height=\"18\" style=\"border:1px white solid;\"></a></td>\n",
      "                  <td style=\"line-height:12pt; height:10px;\"><span class=\"pagetop\"><b class=\"hnname\"><a href=\"news\">Hacker News</a></b>\n",
      "              <a href=\"newest\">new</a> | <a href=\"front\">past</a> | <a href=\"newcomments\">comments</a> | <a href=\"ask\">ask</a> | <a href=\"show\">show</a> | <a href=\"jobs\">jobs</a> | <a href=\"submit\">submit</a>            </span></td><td style=\"text-align:right;padding-right:4px;\"><span class=\"pagetop\">\n",
      "                              <a href=\"login?goto=news\">login</a>\n",
      "                          </span></td>\n",
      "              </tr></table></td></tr>\n",
      "<tr id=\"pagespace\" title=\"\" style=\"height:10px\"></tr><tr><td><table border=\"0\" cellpadding=\"0\" cellspacing=\"0\" class=\"itemlist\">\n",
      "              <tr class='athing' id='25271791'>\n",
      "      <td align=\"right\" valign=\"top\" class=\"title\"><span class=\"rank\">1.</span></td>      <td valign=\"top\" class=\"votelinks\"><center><a id='up_25271791' href='vote?id=25271791&amp;how=up&amp;goto=news'><div class='votearrow' title='upvote'></div></a></center></td><td class=\"title\"><a href=\"https://aws.amazon.com/s3/consistency/\" class=\"storylink\">S3 Strong Consistency</a><span class=\"sitebit comhead\"> (<a href=\"from?site=amazon.com\"><span class=\"sitestr\">amazon.com</span></a>)</span></td></tr><tr><td colspan=\"2\"></td><td class=\"subtext\">\n",
      "        <span class=\"score\" id=\"score_25271791\">403 points</span> by <a href=\"user?id=juliansimioni\" class=\"hnuser\">juliansimioni</a> <span class=\"age\"><a href=\"item?id=25271791\">5 hours ago</a></span> <span id=\"unv_25271791\"></span> | <a href=\"hide?id=25271791&amp;goto=news\">hide</a> | <a href=\"item?id=25271791\">118&nbsp;comments</a>              </td></tr>\n",
      "      <tr class=\"spacer\" style=\"height:5px\"></tr>\n",
      "                <tr class='athing' id='25270184'>\n",
      "      <td align=\"right\" valign=\"top\" class=\"title\"><span class=\"rank\">2.</span></td>      <td valign=\"top\" class=\"votelinks\"><center><a id='up_25270184' href='vote?id=25270184&amp;how=up&amp;goto=news'><div class='votearrow' title='upvote'></div></a></center></td><td class=\"title\"><a href=\"https://googleprojectzero.blogspot.com/2020/12/an-ios-zero-click-radio-proximity.html\" class=\"storylink\">An iOS zero-click radio proximity exploit odyssey</a><span class=\"sitebit comhead\"> (<a href=\"from?site=googleprojectzero.blogspot.com\"><span class=\"sitestr\">googleprojectzero.blogspot.com</span></a>)</span></td></tr><tr><td colspan=\"2\"></td><td class=\"subtext\">\n",
      "        <span class=\"score\" id=\"score_25270184\">401 points</span> by <a href=\"user?id=tbodt\" class=\"hnuser\">tbodt</a> <span class=\"age\"><a href=\"item?id=25270184\">8 hours ago</a></span> <span id=\"unv_25270184\"></span> | <a href=\"hide?id=25270184&amp;goto=news\">hide</a> | <a href=\"item?id=25270184\">151&nbsp;comments</a>              </td></tr>\n",
      "      <tr class=\"spacer\" style=\"height:5px\"></tr>\n",
      "                <tr class='athing' id='25272407'>\n",
      "      <td align=\"right\" valign=\"top\" class=\"title\"><span class=\"rank\">3.</span></td>      <td valign=\"top\" class=\"votelinks\"><center><a id='up_25272407' href='vote?id=25272407&amp;how=up&amp;goto=news'><div class='votearrow' title='upvote'></div></a></center></td><td class=\"title\"><a href=\"https://www.npr.org/2020/12/01/940767001/arecibo-observatory-telescope-collapses-ending-an-era-of-world-class-research\" class=\"storylink\">Arecibo Observatory Telescope Collapses, Ending an Era of World-Class Research</a><span class=\"sitebit comhead\"> (<a href=\"from?site=npr.org\"><span class=\"sitestr\">npr.org</span></a>)</span></td></tr><tr><td colspan=\"2\"></td><td class=\"subtext\">\n",
      "        <span class=\"score\" id=\"score_25272407\">78 points</span> by <a href=\"user?id=IMAYousaf\" class=\"hnuser\">IMAYousaf</a> <span class=\"age\"><a href=\"item?id=25272407\">4 hours ago</a></span> <span id=\"unv_25272407\"></span> | <a href=\"hide?id=25272407&amp;goto=news\">hide</a> | <a href=\"item?id=25272407\">18&nbsp;comments</a>              </td></tr>\n",
      "      <tr class=\"spacer\" style=\"height:5px\"></tr>\n",
      "                <tr class='athing' id='25272533'>\n",
      "      <td align=\"right\" valign=\"top\" class=\"title\"><span class=\"rank\">4.</span></td>      <td valign=\"top\" class=\"votelinks\"><center><a id='up_25272533' href='vote?id=25272533&amp;how=up&amp;goto=news'><div class='votearrow' title='upvote'></div></a></center></td><td class=\"title\"><a href=\"https://sacra.com/research/front-inside-the-startup-slackifying-email/?\" class=\"storylink\">Front: The $1.3B Startup Slackifying Email</a><span class=\"sitebit comhead\"> (<a href=\"from?site=sacra.com\"><span class=\"sitestr\">sacra.com</span></a>)</span></td></tr><tr><td colspan=\"2\"></td><td class=\"subtext\">\n",
      "        <span class=\"score\" id=\"score_25272533\">85 points</span> by <a href=\"user?id=bdr\" class=\"hnuser\">bdr</a> <span class=\"age\"><a href=\"item?id=25272533\">3 hours ago</a></span> <span id=\"unv_25272533\"></span> | <a href=\"hide?id=25272533&amp;goto=news\">hide</a> | <a href=\"item?id=25272533\">61&nbsp;comments</a>              </td></tr>\n",
      "      <tr class=\"spacer\" style=\"height:5px\"></tr>\n",
      "                <tr class='athing' id='25271464'>\n",
      "      <td align=\"right\" valign=\"top\" class=\"title\"><span class=\"rank\">5.</span></td>      <td valign=\"top\" class=\"votelinks\"><center><a id='up_25271464' href='vote?id=25271464&amp;how=up&amp;goto=news'><div class='votearrow' title='upvote'></div></a></center></td><td class=\"title\"><a href=\"https://archive.org/details/attentionkmartshoppers\" class=\"storylink\">Attention K-Mart Shoppers: Piped Music Collection on the Internet Archive</a><span class=\"sitebit comhead\"> (<a href=\"from?site=archive.org\"><span class=\"sitestr\">archive.org</span></a>)</span></td></tr><tr><td colspan=\"2\"></td><td class=\"subtext\">\n",
      "        <span class=\"score\" id=\"score_25271464\">169 points</span> by <a href=\"user?id=shervinafshar\" class=\"hnuser\">shervinafshar</a> <span class=\"age\"><a href=\"item?id=25271464\">6 hours ago</a></span> <span id=\"unv_25271464\"></span> | <a href=\"hide?id=25271464&amp;goto=news\">hide</a> | <a href=\"item?id=25271464\">54&nbsp;comments</a>              </td></tr>\n",
      "      <tr class=\"spacer\" style=\"height:5px\"></tr>\n",
      "                <tr class='athing' id='25267029'>\n",
      "      <td align=\"right\" valign=\"top\" class=\"title\"><span class=\"rank\">6.</span></td>      <td valign=\"top\" class=\"votelinks\"><center><a id='up_25267029' href='vote?id=25267029&amp;how=up&amp;goto=news'><div class='votearrow' title='upvote'></div></a></center></td><td class=\"title\"><a href=\"https://aws.amazon.com/lambda/pricing/\" class=\"storylink\">AWS Lambda pricing now per ms</a><span class=\"sitebit comhead\"> (<a href=\"from?site=amazon.com\"><span class=\"sitestr\">amazon.com</span></a>)</span></td></tr><tr><td colspan=\"2\"></td><td class=\"subtext\">\n",
      "        <span class=\"score\" id=\"score_25267029\">540 points</span> by <a href=\"user?id=astuyvenberg\" class=\"hnuser\">astuyvenberg</a> <span class=\"age\"><a href=\"item?id=25267029\">13 hours ago</a></span> <span id=\"unv_25267029\"></span> | <a href=\"hide?id=25267029&amp;goto=news\">hide</a> | <a href=\"item?id=25267029\">262&nbsp;comments</a>              </td></tr>\n",
      "      <tr class=\"spacer\" style=\"height:5px\"></tr>\n",
      "                <tr class='athing' id='25261591'>\n",
      "      <td align=\"right\" valign=\"top\" class=\"title\"><span class=\"rank\">7.</span></td>      <td valign=\"top\" class=\"votelinks\"><center><a id='up_25261591' href='vote?id=25261591&amp;how=up&amp;goto=news'><div class='votearrow' title='upvote'></div></a></center></td><td class=\"title\"><a href=\"https://rootsofprogress.org/alphafold-protein-folding-explainer\" class=\"storylink\">What is protein folding? A brief explanation</a><span class=\"sitebit comhead\"> (<a href=\"from?site=rootsofprogress.org\"><span class=\"sitestr\">rootsofprogress.org</span></a>)</span></td></tr><tr><td colspan=\"2\"></td><td class=\"subtext\">\n",
      "        <span class=\"score\" id=\"score_25261591\">147 points</span> by <a href=\"user?id=jasoncrawford\" class=\"hnuser\">jasoncrawford</a> <span class=\"age\"><a href=\"item?id=25261591\">7 hours ago</a></span> <span id=\"unv_25261591\"></span> | <a href=\"hide?id=25261591&amp;goto=news\">hide</a> | <a href=\"item?id=25261591\">40&nbsp;comments</a>              </td></tr>\n",
      "      <tr class=\"spacer\" style=\"height:5px\"></tr>\n",
      "                <tr class='athing' id='25269934'>\n",
      "      <td align=\"right\" valign=\"top\" class=\"title\"><span class=\"rank\">8.</span></td>      <td valign=\"top\" class=\"votelinks\"><center><a id='up_25269934' href='vote?id=25269934&amp;how=up&amp;goto=news'><div class='votearrow' title='upvote'></div></a></center></td><td class=\"title\"><a href=\"https://www.salesforce.com/news/press-releases/2020/12/01/salesforce-definitive-agreement-update/\" class=\"storylink\">Salesforce Signs Definitive Agreement to Acquire Slack</a><span class=\"sitebit comhead\"> (<a href=\"from?site=salesforce.com\"><span class=\"sitestr\">salesforce.com</span></a>)</span></td></tr><tr><td colspan=\"2\"></td><td class=\"subtext\">\n",
      "        <span class=\"score\" id=\"score_25269934\">706 points</span> by <a href=\"user?id=jmsflknr\" class=\"hnuser\">jmsflknr</a> <span class=\"age\"><a href=\"item?id=25269934\">8 hours ago</a></span> <span id=\"unv_25269934\"></span> | <a href=\"hide?id=25269934&amp;goto=news\">hide</a> | <a href=\"item?id=25269934\">514&nbsp;comments</a>              </td></tr>\n",
      "      <tr class=\"spacer\" style=\"height:5px\"></tr>\n",
      "                <tr class='athing' id='25270001'>\n",
      "      <td align=\"right\" valign=\"top\" class=\"title\"><span class=\"rank\">9.</span></td>      <td valign=\"top\" class=\"votelinks\"><center><a id='up_25270001' href='vote?id=25270001&amp;how=up&amp;goto=news'><div class='votearrow' title='upvote'></div></a></center></td><td class=\"title\"><a href=\"https://github.com/monicahq/monica\" class=\"storylink\">Monica: Personal CRM. Remember everything about your friends, family and etc.</a><span class=\"sitebit comhead\"> (<a href=\"from?site=github.com/monicahq\"><span class=\"sitestr\">github.com/monicahq</span></a>)</span></td></tr><tr><td colspan=\"2\"></td><td class=\"subtext\">\n",
      "        <span class=\"score\" id=\"score_25270001\">130 points</span> by <a href=\"user?id=tylermauthe\" class=\"hnuser\">tylermauthe</a> <span class=\"age\"><a href=\"item?id=25270001\">8 hours ago</a></span> <span id=\"unv_25270001\"></span> | <a href=\"hide?id=25270001&amp;goto=news\">hide</a> | <a href=\"item?id=25270001\">71&nbsp;comments</a>              </td></tr>\n",
      "      <tr class=\"spacer\" style=\"height:5px\"></tr>\n",
      "                <tr class='athing' id='25272957'>\n",
      "      <td align=\"right\" valign=\"top\" class=\"title\"><span class=\"rank\">10.</span></td>      <td valign=\"top\" class=\"votelinks\"><center><a id='up_25272957' href='vote?id=25272957&amp;how=up&amp;goto=news'><div class='votearrow' title='upvote'></div></a></center></td><td class=\"title\"><a href=\"https://chess.resistant.tech/\" class=\"storylink\">Win by Segfault and Other Notes on Exploiting Chess Engines</a><span class=\"sitebit comhead\"> (<a href=\"from?site=resistant.tech\"><span class=\"sitestr\">resistant.tech</span></a>)</span></td></tr><tr><td colspan=\"2\"></td><td class=\"subtext\">\n",
      "        <span class=\"score\" id=\"score_25272957\">23 points</span> by <a href=\"user?id=wglb\" class=\"hnuser\">wglb</a> <span class=\"age\"><a href=\"item?id=25272957\">2 hours ago</a></span> <span id=\"unv_25272957\"></span> | <a href=\"hide?id=25272957&amp;goto=news\">hide</a> | <a href=\"item?id=25272957\">discuss</a>              </td></tr>\n",
      "      <tr class=\"spacer\" style=\"height:5px\"></tr>\n",
      "                <tr class='athing' id='25266812'>\n",
      "      <td align=\"right\" valign=\"top\" class=\"title\"><span class=\"rank\">11.</span></td>      <td valign=\"top\" class=\"votelinks\"><center><a id='up_25266812' href='vote?id=25266812&amp;how=up&amp;goto=news'><div class='votearrow' title='upvote'></div></a></center></td><td class=\"title\"><a href=\"https://www.gabrielgambetta.com/computer-graphics-from-scratch/\" class=\"storylink\">Computer Graphics from Scratch (2017)</a><span class=\"sitebit comhead\"> (<a href=\"from?site=gabrielgambetta.com\"><span class=\"sitestr\">gabrielgambetta.com</span></a>)</span></td></tr><tr><td colspan=\"2\"></td><td class=\"subtext\">\n",
      "        <span class=\"score\" id=\"score_25266812\">246 points</span> by <a href=\"user?id=fanf2\" class=\"hnuser\">fanf2</a> <span class=\"age\"><a href=\"item?id=25266812\">13 hours ago</a></span> <span id=\"unv_25266812\"></span> | <a href=\"hide?id=25266812&amp;goto=news\">hide</a> | <a href=\"item?id=25266812\">36&nbsp;comments</a>              </td></tr>\n",
      "      <tr class=\"spacer\" style=\"height:5px\"></tr>\n",
      "                <tr class='athing' id='25272360'>\n",
      "      <td align=\"right\" valign=\"top\" class=\"title\"><span class=\"rank\">12.</span></td>      <td valign=\"top\" class=\"votelinks\"><center><a id='up_25272360' href='vote?id=25272360&amp;how=up&amp;goto=news'><div class='votearrow' title='upvote'></div></a></center></td><td class=\"title\"><a href=\"https://alexlenail.me/NN-SVG/AlexNet.html\" class=\"storylink\">NN-SVG: Generate publication-ready NN-architecture schematics</a><span class=\"sitebit comhead\"> (<a href=\"from?site=alexlenail.me\"><span class=\"sitestr\">alexlenail.me</span></a>)</span></td></tr><tr><td colspan=\"2\"></td><td class=\"subtext\">\n",
      "        <span class=\"score\" id=\"score_25272360\">24 points</span> by <a href=\"user?id=tzm\" class=\"hnuser\">tzm</a> <span class=\"age\"><a href=\"item?id=25272360\">4 hours ago</a></span> <span id=\"unv_25272360\"></span> | <a href=\"hide?id=25272360&amp;goto=news\">hide</a> | <a href=\"item?id=25272360\">2&nbsp;comments</a>              </td></tr>\n",
      "      <tr class=\"spacer\" style=\"height:5px\"></tr>\n",
      "                <tr class='athing' id='25267847'>\n",
      "      <td align=\"right\" valign=\"top\" class=\"title\"><span class=\"rank\">13.</span></td>      <td valign=\"top\" class=\"votelinks\"><center><a id='up_25267847' href='vote?id=25267847&amp;how=up&amp;goto=news'><div class='votearrow' title='upvote'></div></a></center></td><td class=\"title\"><a href=\"https://www.willpatrick.co.uk/articles/how-to-buy-gifts-that-people-actually-want\" class=\"storylink\">How to buy gifts that people actually want</a><span class=\"sitebit comhead\"> (<a href=\"from?site=willpatrick.co.uk\"><span class=\"sitestr\">willpatrick.co.uk</span></a>)</span></td></tr><tr><td colspan=\"2\"></td><td class=\"subtext\">\n",
      "        <span class=\"score\" id=\"score_25267847\">243 points</span> by <a href=\"user?id=willpatrick\" class=\"hnuser\">willpatrick</a> <span class=\"age\"><a href=\"item?id=25267847\">12 hours ago</a></span> <span id=\"unv_25267847\"></span> | <a href=\"hide?id=25267847&amp;goto=news\">hide</a> | <a href=\"item?id=25267847\">234&nbsp;comments</a>              </td></tr>\n",
      "      <tr class=\"spacer\" style=\"height:5px\"></tr>\n",
      "                <tr class='athing' id='25266288'>\n",
      "      <td align=\"right\" valign=\"top\" class=\"title\"><span class=\"rank\">14.</span></td>      <td valign=\"top\" class=\"votelinks\"><center><a id='up_25266288' href='vote?id=25266288&amp;how=up&amp;goto=news'><div class='votearrow' title='upvote'></div></a></center></td><td class=\"title\"><a href=\"item?id=25266288\" class=\"storylink\">Ask HN: Who is hiring? (December 2020)</a></td></tr><tr><td colspan=\"2\"></td><td class=\"subtext\">\n",
      "        <span class=\"score\" id=\"score_25266288\">294 points</span> by <a href=\"user?id=whoishiring\" class=\"hnuser\">whoishiring</a> <span class=\"age\"><a href=\"item?id=25266288\">14 hours ago</a></span> <span id=\"unv_25266288\"></span> | <a href=\"hide?id=25266288&amp;goto=news\">hide</a> | <a href=\"item?id=25266288\">540&nbsp;comments</a>              </td></tr>\n",
      "      <tr class=\"spacer\" style=\"height:5px\"></tr>\n",
      "                <tr class='athing' id='25265761'>\n",
      "      <td align=\"right\" valign=\"top\" class=\"title\"><span class=\"rank\">15.</span></td>      <td valign=\"top\" class=\"votelinks\"><center><a id='up_25265761' href='vote?id=25265761&amp;how=up&amp;goto=news'><div class='votearrow' title='upvote'></div></a></center></td><td class=\"title\"><a href=\"https://github.com/oasislinux/oasis\" class=\"storylink\">Oasis: a small statically-linked Linux system</a><span class=\"sitebit comhead\"> (<a href=\"from?site=github.com/oasislinux\"><span class=\"sitestr\">github.com/oasislinux</span></a>)</span></td></tr><tr><td colspan=\"2\"></td><td class=\"subtext\">\n",
      "        <span class=\"score\" id=\"score_25265761\">230 points</span> by <a href=\"user?id=varbhat\" class=\"hnuser\">varbhat</a> <span class=\"age\"><a href=\"item?id=25265761\">15 hours ago</a></span> <span id=\"unv_25265761\"></span> | <a href=\"hide?id=25265761&amp;goto=news\">hide</a> | <a href=\"item?id=25265761\">138&nbsp;comments</a>              </td></tr>\n",
      "      <tr class=\"spacer\" style=\"height:5px\"></tr>\n",
      "                <tr class='athing' id='25266287'>\n",
      "      <td align=\"right\" valign=\"top\" class=\"title\"><span class=\"rank\">16.</span></td>      <td valign=\"top\" class=\"votelinks\"><center><a id='up_25266287' href='vote?id=25266287&amp;how=up&amp;goto=news'><div class='votearrow' title='upvote'></div></a></center></td><td class=\"title\"><a href=\"item?id=25266287\" class=\"storylink\">Ask HN: Who wants to be hired? (December 2020)</a></td></tr><tr><td colspan=\"2\"></td><td class=\"subtext\">\n",
      "        <span class=\"score\" id=\"score_25266287\">145 points</span> by <a href=\"user?id=whoishiring\" class=\"hnuser\">whoishiring</a> <span class=\"age\"><a href=\"item?id=25266287\">12 hours ago</a></span> <span id=\"unv_25266287\"></span> | <a href=\"hide?id=25266287&amp;goto=news\">hide</a> | <a href=\"item?id=25266287\">194&nbsp;comments</a>              </td></tr>\n",
      "      <tr class=\"spacer\" style=\"height:5px\"></tr>\n",
      "                <tr class='athing' id='25253488'>\n",
      "      <td align=\"right\" valign=\"top\" class=\"title\"><span class=\"rank\">17.</span></td>      <td valign=\"top\" class=\"votelinks\"><center><a id='up_25253488' href='vote?id=25253488&amp;how=up&amp;goto=news'><div class='votearrow' title='upvote'></div></a></center></td><td class=\"title\"><a href=\"https://deepmind.com/blog/article/alphafold-a-solution-to-a-50-year-old-grand-challenge-in-biology\" class=\"storylink\">AlphaFold: a solution to a 50-year-old grand challenge in biology</a><span class=\"sitebit comhead\"> (<a href=\"from?site=deepmind.com\"><span class=\"sitestr\">deepmind.com</span></a>)</span></td></tr><tr><td colspan=\"2\"></td><td class=\"subtext\">\n",
      "        <span class=\"score\" id=\"score_25253488\">1277 points</span> by <a href=\"user?id=momeara\" class=\"hnuser\">momeara</a> <span class=\"age\"><a href=\"item?id=25253488\">1 day ago</a></span> <span id=\"unv_25253488\"></span> | <a href=\"hide?id=25253488&amp;goto=news\">hide</a> | <a href=\"item?id=25253488\">642&nbsp;comments</a>              </td></tr>\n",
      "      <tr class=\"spacer\" style=\"height:5px\"></tr>\n",
      "                <tr class='athing' id='25265238'>\n",
      "      <td align=\"right\" valign=\"top\" class=\"title\"><span class=\"rank\">18.</span></td>      <td valign=\"top\" class=\"votelinks\"><center><a id='up_25265238' href='vote?id=25265238&amp;how=up&amp;goto=news'><div class='votearrow' title='upvote'></div></a></center></td><td class=\"title\"><a href=\"http://blog.erlang.org/the-road-to-the-jit/\" class=\"storylink\">The Road to the JIT</a><span class=\"sitebit comhead\"> (<a href=\"from?site=erlang.org\"><span class=\"sitestr\">erlang.org</span></a>)</span></td></tr><tr><td colspan=\"2\"></td><td class=\"subtext\">\n",
      "        <span class=\"score\" id=\"score_25265238\">194 points</span> by <a href=\"user?id=lelf\" class=\"hnuser\">lelf</a> <span class=\"age\"><a href=\"item?id=25265238\">15 hours ago</a></span> <span id=\"unv_25265238\"></span> | <a href=\"hide?id=25265238&amp;goto=news\">hide</a> | <a href=\"item?id=25265238\">42&nbsp;comments</a>              </td></tr>\n",
      "      <tr class=\"spacer\" style=\"height:5px\"></tr>\n",
      "                <tr class='athing' id='25270107'>\n",
      "      <td align=\"right\" valign=\"top\" class=\"title\"><span class=\"rank\">19.</span></td>      <td valign=\"top\" class=\"votelinks\"><center><a id='up_25270107' href='vote?id=25270107&amp;how=up&amp;goto=news'><div class='votearrow' title='upvote'></div></a></center></td><td class=\"title\"><a href=\"https://brandur.org/large-database-casualties\" class=\"storylink\">Feature Casualties of Large Databases</a><span class=\"sitebit comhead\"> (<a href=\"from?site=brandur.org\"><span class=\"sitestr\">brandur.org</span></a>)</span></td></tr><tr><td colspan=\"2\"></td><td class=\"subtext\">\n",
      "        <span class=\"score\" id=\"score_25270107\">75 points</span> by <a href=\"user?id=craigkerstiens\" class=\"hnuser\">craigkerstiens</a> <span class=\"age\"><a href=\"item?id=25270107\">8 hours ago</a></span> <span id=\"unv_25270107\"></span> | <a href=\"hide?id=25270107&amp;goto=news\">hide</a> | <a href=\"item?id=25270107\">28&nbsp;comments</a>              </td></tr>\n",
      "      <tr class=\"spacer\" style=\"height:5px\"></tr>\n",
      "                <tr class='athing' id='25271676'>\n",
      "      <td align=\"right\" valign=\"top\" class=\"title\"><span class=\"rank\">20.</span></td>      <td valign=\"top\" class=\"votelinks\"><center><a id='up_25271676' href='vote?id=25271676&amp;how=up&amp;goto=news'><div class='votearrow' title='upvote'></div></a></center></td><td class=\"title\"><a href=\"item?id=25271676\" class=\"storylink\">Ask HN: What are the best advanced computer science courses online?</a></td></tr><tr><td colspan=\"2\"></td><td class=\"subtext\">\n",
      "        <span class=\"score\" id=\"score_25271676\">144 points</span> by <a href=\"user?id=st1x7\" class=\"hnuser\">st1x7</a> <span class=\"age\"><a href=\"item?id=25271676\">6 hours ago</a></span> <span id=\"unv_25271676\"></span> | <a href=\"hide?id=25271676&amp;goto=news\">hide</a> | <a href=\"item?id=25271676\">45&nbsp;comments</a>              </td></tr>\n",
      "      <tr class=\"spacer\" style=\"height:5px\"></tr>\n",
      "                <tr class='athing' id='25258626'>\n",
      "      <td align=\"right\" valign=\"top\" class=\"title\"><span class=\"rank\">21.</span></td>      <td valign=\"top\" class=\"votelinks\"><center><a id='up_25258626' href='vote?id=25258626&amp;how=up&amp;goto=news'><div class='votearrow' title='upvote'></div></a></center></td><td class=\"title\"><a href=\"http://dbmsmusings.blogspot.com/2017/10/apache-arrow-vs-parquet-and-orc-do-we.html\" class=\"storylink\">Do we really need a third Apache project for columnar data? (2017)</a><span class=\"sitebit comhead\"> (<a href=\"from?site=dbmsmusings.blogspot.com\"><span class=\"sitestr\">dbmsmusings.blogspot.com</span></a>)</span></td></tr><tr><td colspan=\"2\"></td><td class=\"subtext\">\n",
      "        <span class=\"score\" id=\"score_25258626\">65 points</span> by <a href=\"user?id=archagon\" class=\"hnuser\">archagon</a> <span class=\"age\"><a href=\"item?id=25258626\">11 hours ago</a></span> <span id=\"unv_25258626\"></span> | <a href=\"hide?id=25258626&amp;goto=news\">hide</a> | <a href=\"item?id=25258626\">17&nbsp;comments</a>              </td></tr>\n",
      "      <tr class=\"spacer\" style=\"height:5px\"></tr>\n",
      "                <tr class='athing' id='25268914'>\n",
      "      <td align=\"right\" valign=\"top\" class=\"title\"><span class=\"rank\">22.</span></td>      <td valign=\"top\" class=\"votelinks\"><center><a id='up_25268914' href='vote?id=25268914&amp;how=up&amp;goto=news'><div class='votearrow' title='upvote'></div></a></center></td><td class=\"title\"><a href=\"https://wyze.com/wyze-watch.html\" class=\"storylink\">Wyze $20 Smart Watch</a><span class=\"sitebit comhead\"> (<a href=\"from?site=wyze.com\"><span class=\"sitestr\">wyze.com</span></a>)</span></td></tr><tr><td colspan=\"2\"></td><td class=\"subtext\">\n",
      "        <span class=\"score\" id=\"score_25268914\">213 points</span> by <a href=\"user?id=ignorantguy\" class=\"hnuser\">ignorantguy</a> <span class=\"age\"><a href=\"item?id=25268914\">10 hours ago</a></span> <span id=\"unv_25268914\"></span> | <a href=\"hide?id=25268914&amp;goto=news\">hide</a> | <a href=\"item?id=25268914\">230&nbsp;comments</a>              </td></tr>\n",
      "      <tr class=\"spacer\" style=\"height:5px\"></tr>\n",
      "                <tr class='athing' id='25269852'>\n",
      "      <td align=\"right\" valign=\"top\" class=\"title\"><span class=\"rank\">23.</span></td>      <td></td><td class=\"title\"><a href=\"https://www.themuse.com/jobs/themuse/director-of-analytics-business-intelligence\" class=\"storylink\" rel=\"nofollow\">The Muse (YC W12) Is Hiring a Director of Analytics and BI</a><span class=\"sitebit comhead\"> (<a href=\"from?site=themuse.com\"><span class=\"sitestr\">themuse.com</span></a>)</span></td></tr><tr><td colspan=\"2\"></td><td class=\"subtext\">\n",
      "        <span class=\"age\"><a href=\"item?id=25269852\">9 hours ago</a></span> | <a href=\"hide?id=25269852&amp;goto=news\">hide</a>      </td></tr>\n",
      "      <tr class=\"spacer\" style=\"height:5px\"></tr>\n",
      "                <tr class='athing' id='25264694'>\n",
      "      <td align=\"right\" valign=\"top\" class=\"title\"><span class=\"rank\">24.</span></td>      <td valign=\"top\" class=\"votelinks\"><center><a id='up_25264694' href='vote?id=25264694&amp;how=up&amp;goto=news'><div class='votearrow' title='upvote'></div></a></center></td><td class=\"title\"><a href=\"https://twitter.com/ethereum/status/1333743998637400073\" class=\"storylink\">Ethereum 2.0 launches</a><span class=\"sitebit comhead\"> (<a href=\"from?site=twitter.com/ethereum\"><span class=\"sitestr\">twitter.com/ethereum</span></a>)</span></td></tr><tr><td colspan=\"2\"></td><td class=\"subtext\">\n",
      "        <span class=\"score\" id=\"score_25264694\">565 points</span> by <a href=\"user?id=0x64\" class=\"hnuser\">0x64</a> <span class=\"age\"><a href=\"item?id=25264694\">17 hours ago</a></span> <span id=\"unv_25264694\"></span> | <a href=\"hide?id=25264694&amp;goto=news\">hide</a> | <a href=\"item?id=25264694\">517&nbsp;comments</a>              </td></tr>\n",
      "      <tr class=\"spacer\" style=\"height:5px\"></tr>\n",
      "                <tr class='athing' id='25272726'>\n",
      "      <td align=\"right\" valign=\"top\" class=\"title\"><span class=\"rank\">25.</span></td>      <td valign=\"top\" class=\"votelinks\"><center><a id='up_25272726' href='vote?id=25272726&amp;how=up&amp;goto=news'><div class='votearrow' title='upvote'></div></a></center></td><td class=\"title\"><a href=\"https://observablehq.com/@makio135/creative-coding\" class=\"storylink\" rel=\"nofollow\">Observable and Creative Coding</a><span class=\"sitebit comhead\"> (<a href=\"from?site=observablehq.com\"><span class=\"sitestr\">observablehq.com</span></a>)</span></td></tr><tr><td colspan=\"2\"></td><td class=\"subtext\">\n",
      "        <span class=\"score\" id=\"score_25272726\">8 points</span> by <a href=\"user?id=grzm\" class=\"hnuser\">grzm</a> <span class=\"age\"><a href=\"item?id=25272726\">3 hours ago</a></span> <span id=\"unv_25272726\"></span> | <a href=\"hide?id=25272726&amp;goto=news\">hide</a> | <a href=\"item?id=25272726\">discuss</a>              </td></tr>\n",
      "      <tr class=\"spacer\" style=\"height:5px\"></tr>\n",
      "                <tr class='athing' id='25267204'>\n",
      "      <td align=\"right\" valign=\"top\" class=\"title\"><span class=\"rank\">26.</span></td>      <td valign=\"top\" class=\"votelinks\"><center><a id='up_25267204' href='vote?id=25267204&amp;how=up&amp;goto=news'><div class='votearrow' title='upvote'></div></a></center></td><td class=\"title\"><a href=\"https://aws.amazon.com/blogs/opensource/want-more-postgresql-you-just-might-like-babelfish/\" class=\"storylink\">Babelfish: SQL Server-to-Postgres Translation Layer</a><span class=\"sitebit comhead\"> (<a href=\"from?site=amazon.com\"><span class=\"sitestr\">amazon.com</span></a>)</span></td></tr><tr><td colspan=\"2\"></td><td class=\"subtext\">\n",
      "        <span class=\"score\" id=\"score_25267204\">262 points</span> by <a href=\"user?id=ke4qqq\" class=\"hnuser\">ke4qqq</a> <span class=\"age\"><a href=\"item?id=25267204\">12 hours ago</a></span> <span id=\"unv_25267204\"></span> | <a href=\"hide?id=25267204&amp;goto=news\">hide</a> | <a href=\"item?id=25267204\">100&nbsp;comments</a>              </td></tr>\n",
      "      <tr class=\"spacer\" style=\"height:5px\"></tr>\n",
      "                <tr class='athing' id='25266473'>\n",
      "      <td align=\"right\" valign=\"top\" class=\"title\"><span class=\"rank\">27.</span></td>      <td valign=\"top\" class=\"votelinks\"><center><a id='up_25266473' href='vote?id=25266473&amp;how=up&amp;goto=news'><div class='votearrow' title='upvote'></div></a></center></td><td class=\"title\"><a href=\"https://www.bunniestudios.com/blog/?p=6011\" class=\"storylink\">Precursor’s Custom PCBs</a><span class=\"sitebit comhead\"> (<a href=\"from?site=bunniestudios.com\"><span class=\"sitestr\">bunniestudios.com</span></a>)</span></td></tr><tr><td colspan=\"2\"></td><td class=\"subtext\">\n",
      "        <span class=\"score\" id=\"score_25266473\">129 points</span> by <a href=\"user?id=parsecs\" class=\"hnuser\">parsecs</a> <span class=\"age\"><a href=\"item?id=25266473\">13 hours ago</a></span> <span id=\"unv_25266473\"></span> | <a href=\"hide?id=25266473&amp;goto=news\">hide</a> | <a href=\"item?id=25266473\">20&nbsp;comments</a>              </td></tr>\n",
      "      <tr class=\"spacer\" style=\"height:5px\"></tr>\n",
      "                <tr class='athing' id='25267651'>\n",
      "      <td align=\"right\" valign=\"top\" class=\"title\"><span class=\"rank\">28.</span></td>      <td valign=\"top\" class=\"votelinks\"><center><a id='up_25267651' href='vote?id=25267651&amp;how=up&amp;goto=news'><div class='votearrow' title='upvote'></div></a></center></td><td class=\"title\"><a href=\"https://www.servethehome.com/falling-from-the-sky-2020-self-hosting-still-pays/\" class=\"storylink\">Self-Hosting Still Pays</a><span class=\"sitebit comhead\"> (<a href=\"from?site=servethehome.com\"><span class=\"sitestr\">servethehome.com</span></a>)</span></td></tr><tr><td colspan=\"2\"></td><td class=\"subtext\">\n",
      "        <span class=\"score\" id=\"score_25267651\">332 points</span> by <a href=\"user?id=emperor_\" class=\"hnuser\">emperor_</a> <span class=\"age\"><a href=\"item?id=25267651\">12 hours ago</a></span> <span id=\"unv_25267651\"></span> | <a href=\"hide?id=25267651&amp;goto=news\">hide</a> | <a href=\"item?id=25267651\">272&nbsp;comments</a>              </td></tr>\n",
      "      <tr class=\"spacer\" style=\"height:5px\"></tr>\n",
      "                <tr class='athing' id='25268497'>\n",
      "      <td align=\"right\" valign=\"top\" class=\"title\"><span class=\"rank\">29.</span></td>      <td valign=\"top\" class=\"votelinks\"><center><a id='up_25268497' href='vote?id=25268497&amp;how=up&amp;goto=news'><div class='votearrow' title='upvote'></div></a></center></td><td class=\"title\"><a href=\"https://blog.samaltman.com/the-strength-of-being-misunderstood\" class=\"storylink\">The Strength of Being Misunderstood</a><span class=\"sitebit comhead\"> (<a href=\"from?site=samaltman.com\"><span class=\"sitestr\">samaltman.com</span></a>)</span></td></tr><tr><td colspan=\"2\"></td><td class=\"subtext\">\n",
      "        <span class=\"score\" id=\"score_25268497\">87 points</span> by <a href=\"user?id=firloop\" class=\"hnuser\">firloop</a> <span class=\"age\"><a href=\"item?id=25268497\">11 hours ago</a></span> <span id=\"unv_25268497\"></span> | <a href=\"hide?id=25268497&amp;goto=news\">hide</a> | <a href=\"item?id=25268497\">48&nbsp;comments</a>              </td></tr>\n",
      "      <tr class=\"spacer\" style=\"height:5px\"></tr>\n",
      "                <tr class='athing' id='25262631'>\n",
      "      <td align=\"right\" valign=\"top\" class=\"title\"><span class=\"rank\">30.</span></td>      <td valign=\"top\" class=\"votelinks\"><center><a id='up_25262631' href='vote?id=25262631&amp;how=up&amp;goto=news'><div class='votearrow' title='upvote'></div></a></center></td><td class=\"title\"><a href=\"https://memalign.github.io/m/dungeon/index.html\" class=\"storylink\">Show HN: Tiny mobile-friendly interactive fiction game</a><span class=\"sitebit comhead\"> (<a href=\"from?site=memalign.github.io\"><span class=\"sitestr\">memalign.github.io</span></a>)</span></td></tr><tr><td colspan=\"2\"></td><td class=\"subtext\">\n",
      "        <span class=\"score\" id=\"score_25262631\">88 points</span> by <a href=\"user?id=memalign\" class=\"hnuser\">memalign</a> <span class=\"age\"><a href=\"item?id=25262631\">11 hours ago</a></span> <span id=\"unv_25262631\"></span> | <a href=\"hide?id=25262631&amp;goto=news\">hide</a> | <a href=\"item?id=25262631\">13&nbsp;comments</a>              </td></tr>\n",
      "      <tr class=\"spacer\" style=\"height:5px\"></tr>\n",
      "            <tr class=\"morespace\" style=\"height:10px\"></tr><tr><td colspan=\"2\"></td><td class=\"title\"><a href=\"news?p=2\" class=\"morelink\" rel=\"next\">More</a></td></tr>\n",
      "  </table>\n",
      "</td></tr>\n",
      "<tr><td><img src=\"s.gif\" height=\"10\" width=\"0\"><table width=\"100%\" cellspacing=\"0\" cellpadding=\"1\"><tr><td bgcolor=\"#ff6600\"></td></tr></table><br><center><span class=\"yclinks\"><a href=\"newsguidelines.html\">Guidelines</a>\n",
      "        | <a href=\"newsfaq.html\">FAQ</a>\n",
      "        | <a href=\"lists\">Lists</a>\n",
      "        | <a href=\"https://github.com/HackerNews/API\">API</a>\n",
      "        | <a href=\"security.html\">Security</a>\n",
      "        | <a href=\"http://www.ycombinator.com/legal/\">Legal</a>\n",
      "        | <a href=\"http://www.ycombinator.com/apply/\">Apply to YC</a>\n",
      "        | <a href=\"mailto:hn@ycombinator.com\">Contact</a></span><br><br><form method=\"get\" action=\"//hn.algolia.com/\">Search:\n",
      "          <input type=\"text\" name=\"q\" value=\"\" size=\"17\" autocorrect=\"off\" spellcheck=\"false\" autocapitalize=\"off\" autocomplete=\"false\"></form>\n",
      "            </center></td></tr>\n",
      "      </table></center></body><script type='text/javascript' src='hn.js?7xnRK0pv8n1Oh7woNqhn'></script></html>\n",
      "\n"
     ]
    }
   ],
   "source": [
    "import requests\n",
    "\n",
    "# Fetch a web page\n",
    "r = requests.get(\"https://news.ycombinator.com\")\n",
    "print(r.text)"
   ]
  },
  {
   "cell_type": "code",
   "execution_count": 5,
   "metadata": {},
   "outputs": [
    {
     "name": "stdout",
     "output_type": "stream",
     "text": [
      "\n",
      "        \n",
      "          \n",
      "        Hacker News\n",
      "        \n",
      "                  Hacker News\n",
      "              new | past | comments | ask | show | jobs | submit            \n",
      "                              login\n",
      "                          \n",
      "              \n",
      "\n",
      "              \n",
      "      1.      S3 Strong Consistency (amazon.com)\n",
      "        403 points by juliansimioni 5 hours ago  | hide | 118&nbsp;comments              \n",
      "      \n",
      "                \n",
      "      2.      An iOS zero-click radio proximity exploit odyssey (googleprojectzero.blogspot.com)\n",
      "        401 points by tbodt 8 hours ago  | hide | 151&nbsp;comments              \n",
      "      \n",
      "                \n",
      "      3.      Arecibo Observatory Telescope Collapses, Ending an Era of World-Class Research (npr.org)\n",
      "        78 points by IMAYousaf 4 hours ago  | hide | 18&nbsp;comments              \n",
      "      \n",
      "                \n",
      "      4.      Front: The $1.3B Startup Slackifying Email (sacra.com)\n",
      "        85 points by bdr 3 hours ago  | hide | 61&nbsp;comments              \n",
      "      \n",
      "                \n",
      "      5.      Attention K-Mart Shoppers: Piped Music Collection on the Internet Archive (archive.org)\n",
      "        169 points by shervinafshar 6 hours ago  | hide | 54&nbsp;comments              \n",
      "      \n",
      "                \n",
      "      6.      AWS Lambda pricing now per ms (amazon.com)\n",
      "        540 points by astuyvenberg 13 hours ago  | hide | 262&nbsp;comments              \n",
      "      \n",
      "                \n",
      "      7.      What is protein folding? A brief explanation (rootsofprogress.org)\n",
      "        147 points by jasoncrawford 7 hours ago  | hide | 40&nbsp;comments              \n",
      "      \n",
      "                \n",
      "      8.      Salesforce Signs Definitive Agreement to Acquire Slack (salesforce.com)\n",
      "        706 points by jmsflknr 8 hours ago  | hide | 514&nbsp;comments              \n",
      "      \n",
      "                \n",
      "      9.      Monica: Personal CRM. Remember everything about your friends, family and etc. (github.com/monicahq)\n",
      "        130 points by tylermauthe 8 hours ago  | hide | 71&nbsp;comments              \n",
      "      \n",
      "                \n",
      "      10.      Win by Segfault and Other Notes on Exploiting Chess Engines (resistant.tech)\n",
      "        23 points by wglb 2 hours ago  | hide | discuss              \n",
      "      \n",
      "                \n",
      "      11.      Computer Graphics from Scratch (2017) (gabrielgambetta.com)\n",
      "        246 points by fanf2 13 hours ago  | hide | 36&nbsp;comments              \n",
      "      \n",
      "                \n",
      "      12.      NN-SVG: Generate publication-ready NN-architecture schematics (alexlenail.me)\n",
      "        24 points by tzm 4 hours ago  | hide | 2&nbsp;comments              \n",
      "      \n",
      "                \n",
      "      13.      How to buy gifts that people actually want (willpatrick.co.uk)\n",
      "        243 points by willpatrick 12 hours ago  | hide | 234&nbsp;comments              \n",
      "      \n",
      "                \n",
      "      14.      Ask HN: Who is hiring? (December 2020)\n",
      "        294 points by whoishiring 14 hours ago  | hide | 540&nbsp;comments              \n",
      "      \n",
      "                \n",
      "      15.      Oasis: a small statically-linked Linux system (github.com/oasislinux)\n",
      "        230 points by varbhat 15 hours ago  | hide | 138&nbsp;comments              \n",
      "      \n",
      "                \n",
      "      16.      Ask HN: Who wants to be hired? (December 2020)\n",
      "        145 points by whoishiring 12 hours ago  | hide | 194&nbsp;comments              \n",
      "      \n",
      "                \n",
      "      17.      AlphaFold: a solution to a 50-year-old grand challenge in biology (deepmind.com)\n",
      "        1277 points by momeara 1 day ago  | hide | 642&nbsp;comments              \n",
      "      \n",
      "                \n",
      "      18.      The Road to the JIT (erlang.org)\n",
      "        194 points by lelf 15 hours ago  | hide | 42&nbsp;comments              \n",
      "      \n",
      "                \n",
      "      19.      Feature Casualties of Large Databases (brandur.org)\n",
      "        75 points by craigkerstiens 8 hours ago  | hide | 28&nbsp;comments              \n",
      "      \n",
      "                \n",
      "      20.      Ask HN: What are the best advanced computer science courses online?\n",
      "        144 points by st1x7 6 hours ago  | hide | 45&nbsp;comments              \n",
      "      \n",
      "                \n",
      "      21.      Do we really need a third Apache project for columnar data? (2017) (dbmsmusings.blogspot.com)\n",
      "        65 points by archagon 11 hours ago  | hide | 17&nbsp;comments              \n",
      "      \n",
      "                \n",
      "      22.      Wyze $20 Smart Watch (wyze.com)\n",
      "        213 points by ignorantguy 10 hours ago  | hide | 230&nbsp;comments              \n",
      "      \n",
      "                \n",
      "      23.      The Muse (YC W12) Is Hiring a Director of Analytics and BI (themuse.com)\n",
      "        9 hours ago | hide      \n",
      "      \n",
      "                \n",
      "      24.      Ethereum 2.0 launches (twitter.com/ethereum)\n",
      "        565 points by 0x64 17 hours ago  | hide | 517&nbsp;comments              \n",
      "      \n",
      "                \n",
      "      25.      Observable and Creative Coding (observablehq.com)\n",
      "        8 points by grzm 3 hours ago  | hide | discuss              \n",
      "      \n",
      "                \n",
      "      26.      Babelfish: SQL Server-to-Postgres Translation Layer (amazon.com)\n",
      "        262 points by ke4qqq 12 hours ago  | hide | 100&nbsp;comments              \n",
      "      \n",
      "                \n",
      "      27.      Precursor’s Custom PCBs (bunniestudios.com)\n",
      "        129 points by parsecs 13 hours ago  | hide | 20&nbsp;comments              \n",
      "      \n",
      "                \n",
      "      28.      Self-Hosting Still Pays (servethehome.com)\n",
      "        332 points by emperor_ 12 hours ago  | hide | 272&nbsp;comments              \n",
      "      \n",
      "                \n",
      "      29.      The Strength of Being Misunderstood (samaltman.com)\n",
      "        87 points by firloop 11 hours ago  | hide | 48&nbsp;comments              \n",
      "      \n",
      "                \n",
      "      30.      Show HN: Tiny mobile-friendly interactive fiction game (memalign.github.io)\n",
      "        88 points by memalign 11 hours ago  | hide | 13&nbsp;comments              \n",
      "      \n",
      "            More\n",
      "  \n",
      "\n",
      "Guidelines\n",
      "        | FAQ\n",
      "        | Lists\n",
      "        | API\n",
      "        | Security\n",
      "        | Legal\n",
      "        | Apply to YC\n",
      "        | ContactSearch:\n",
      "          \n",
      "            \n",
      "      \n",
      "\n"
     ]
    }
   ],
   "source": [
    "import re\n",
    "\n",
    "# Remove HTML tags using RegEx\n",
    "pattern = re.compile(r'<.*?>')  # tags look like <...>\n",
    "print(pattern.sub('', r.text))  # replace them with blank"
   ]
  },
  {
   "cell_type": "code",
   "execution_count": 6,
   "metadata": {},
   "outputs": [
    {
     "name": "stdout",
     "output_type": "stream",
     "text": [
      "\n",
      "        \n",
      "          \n",
      "        Hacker News\n",
      "        \n",
      "                  Hacker News\n",
      "              new | past | comments | ask | show | jobs | submit            \n",
      "                              login\n",
      "                          \n",
      "              \n",
      "\n",
      "              \n",
      "      1.      S3 Strong Consistency (amazon.com)\n",
      "        403 points by juliansimioni 5 hours ago  | hide | 118 comments              \n",
      "      \n",
      "                \n",
      "      2.      An iOS zero-click radio proximity exploit odyssey (googleprojectzero.blogspot.com)\n",
      "        401 points by tbodt 8 hours ago  | hide | 151 comments              \n",
      "      \n",
      "                \n",
      "      3.      Arecibo Observatory Telescope Collapses, Ending an Era of World-Class Research (npr.org)\n",
      "        78 points by IMAYousaf 4 hours ago  | hide | 18 comments              \n",
      "      \n",
      "                \n",
      "      4.      Front: The $1.3B Startup Slackifying Email (sacra.com)\n",
      "        85 points by bdr 3 hours ago  | hide | 61 comments              \n",
      "      \n",
      "                \n",
      "      5.      Attention K-Mart Shoppers: Piped Music Collection on the Internet Archive (archive.org)\n",
      "        169 points by shervinafshar 6 hours ago  | hide | 54 comments              \n",
      "      \n",
      "                \n",
      "      6.      AWS Lambda pricing now per ms (amazon.com)\n",
      "        540 points by astuyvenberg 13 hours ago  | hide | 262 comments              \n",
      "      \n",
      "                \n",
      "      7.      What is protein folding? A brief explanation (rootsofprogress.org)\n",
      "        147 points by jasoncrawford 7 hours ago  | hide | 40 comments              \n",
      "      \n",
      "                \n",
      "      8.      Salesforce Signs Definitive Agreement to Acquire Slack (salesforce.com)\n",
      "        706 points by jmsflknr 8 hours ago  | hide | 514 comments              \n",
      "      \n",
      "                \n",
      "      9.      Monica: Personal CRM. Remember everything about your friends, family and etc. (github.com/monicahq)\n",
      "        130 points by tylermauthe 8 hours ago  | hide | 71 comments              \n",
      "      \n",
      "                \n",
      "      10.      Win by Segfault and Other Notes on Exploiting Chess Engines (resistant.tech)\n",
      "        23 points by wglb 2 hours ago  | hide | discuss              \n",
      "      \n",
      "                \n",
      "      11.      Computer Graphics from Scratch (2017) (gabrielgambetta.com)\n",
      "        246 points by fanf2 13 hours ago  | hide | 36 comments              \n",
      "      \n",
      "                \n",
      "      12.      NN-SVG: Generate publication-ready NN-architecture schematics (alexlenail.me)\n",
      "        24 points by tzm 4 hours ago  | hide | 2 comments              \n",
      "      \n",
      "                \n",
      "      13.      How to buy gifts that people actually want (willpatrick.co.uk)\n",
      "        243 points by willpatrick 12 hours ago  | hide | 234 comments              \n",
      "      \n",
      "                \n",
      "      14.      Ask HN: Who is hiring? (December 2020)\n",
      "        294 points by whoishiring 14 hours ago  | hide | 540 comments              \n",
      "      \n",
      "                \n",
      "      15.      Oasis: a small statically-linked Linux system (github.com/oasislinux)\n",
      "        230 points by varbhat 15 hours ago  | hide | 138 comments              \n",
      "      \n",
      "                \n",
      "      16.      Ask HN: Who wants to be hired? (December 2020)\n",
      "        145 points by whoishiring 12 hours ago  | hide | 194 comments              \n",
      "      \n",
      "                \n",
      "      17.      AlphaFold: a solution to a 50-year-old grand challenge in biology (deepmind.com)\n",
      "        1277 points by momeara 1 day ago  | hide | 642 comments              \n",
      "      \n",
      "                \n",
      "      18.      The Road to the JIT (erlang.org)\n",
      "        194 points by lelf 15 hours ago  | hide | 42 comments              \n",
      "      \n",
      "                \n",
      "      19.      Feature Casualties of Large Databases (brandur.org)\n",
      "        75 points by craigkerstiens 8 hours ago  | hide | 28 comments              \n",
      "      \n",
      "                \n",
      "      20.      Ask HN: What are the best advanced computer science courses online?\n",
      "        144 points by st1x7 6 hours ago  | hide | 45 comments              \n",
      "      \n",
      "                \n",
      "      21.      Do we really need a third Apache project for columnar data? (2017) (dbmsmusings.blogspot.com)\n",
      "        65 points by archagon 11 hours ago  | hide | 17 comments              \n",
      "      \n",
      "                \n",
      "      22.      Wyze $20 Smart Watch (wyze.com)\n",
      "        213 points by ignorantguy 10 hours ago  | hide | 230 comments              \n",
      "      \n",
      "                \n",
      "      23.      The Muse (YC W12) Is Hiring a Director of Analytics and BI (themuse.com)\n",
      "        9 hours ago | hide      \n",
      "      \n",
      "                \n",
      "      24.      Ethereum 2.0 launches (twitter.com/ethereum)\n",
      "        565 points by 0x64 17 hours ago  | hide | 517 comments              \n",
      "      \n",
      "                \n",
      "      25.      Observable and Creative Coding (observablehq.com)\n",
      "        8 points by grzm 3 hours ago  | hide | discuss              \n",
      "      \n",
      "                \n",
      "      26.      Babelfish: SQL Server-to-Postgres Translation Layer (amazon.com)\n",
      "        262 points by ke4qqq 12 hours ago  | hide | 100 comments              \n",
      "      \n",
      "                \n",
      "      27.      Precursor’s Custom PCBs (bunniestudios.com)\n",
      "        129 points by parsecs 13 hours ago  | hide | 20 comments              \n",
      "      \n",
      "                \n",
      "      28.      Self-Hosting Still Pays (servethehome.com)\n",
      "        332 points by emperor_ 12 hours ago  | hide | 272 comments              \n",
      "      \n",
      "                \n",
      "      29.      The Strength of Being Misunderstood (samaltman.com)\n",
      "        87 points by firloop 11 hours ago  | hide | 48 comments              \n",
      "      \n",
      "                \n",
      "      30.      Show HN: Tiny mobile-friendly interactive fiction game (memalign.github.io)\n",
      "        88 points by memalign 11 hours ago  | hide | 13 comments              \n",
      "      \n",
      "            More\n",
      "  \n",
      "\n",
      "Guidelines\n",
      "        | FAQ\n",
      "        | Lists\n",
      "        | API\n",
      "        | Security\n",
      "        | Legal\n",
      "        | Apply to YC\n",
      "        | ContactSearch:\n",
      "          \n",
      "            \n",
      "      \n",
      "\n"
     ]
    }
   ],
   "source": [
    "from bs4 import BeautifulSoup\n",
    "\n",
    "# Remove HTML tags using Beautiful Soup library\n",
    "soup = BeautifulSoup(r.text, \"html5lib\")\n",
    "print(soup.get_text())"
   ]
  },
  {
   "cell_type": "code",
   "execution_count": 7,
   "metadata": {
    "scrolled": true
   },
   "outputs": [
    {
     "data": {
      "text/plain": [
       "<tr class=\"athing\" id=\"25271791\">\n",
       "      <td align=\"right\" class=\"title\" valign=\"top\"><span class=\"rank\">1.</span></td>      <td class=\"votelinks\" valign=\"top\"><center><a href=\"vote?id=25271791&amp;how=up&amp;goto=news\" id=\"up_25271791\"><div class=\"votearrow\" title=\"upvote\"></div></a></center></td><td class=\"title\"><a class=\"storylink\" href=\"https://aws.amazon.com/s3/consistency/\">S3 Strong Consistency</a><span class=\"sitebit comhead\"> (<a href=\"from?site=amazon.com\"><span class=\"sitestr\">amazon.com</span></a>)</span></td></tr>"
      ]
     },
     "execution_count": 7,
     "metadata": {},
     "output_type": "execute_result"
    }
   ],
   "source": [
    "# Find all articles\n",
    "summaries = soup.find_all(\"tr\", class_=\"athing\")\n",
    "summaries[0]"
   ]
  },
  {
   "cell_type": "code",
   "execution_count": 8,
   "metadata": {},
   "outputs": [
    {
     "data": {
      "text/plain": [
       "'S3 Strong Consistency'"
      ]
     },
     "execution_count": 8,
     "metadata": {},
     "output_type": "execute_result"
    }
   ],
   "source": [
    "# Extract title\n",
    "summaries[0].find(\"a\", class_=\"storylink\").get_text().strip()"
   ]
  },
  {
   "cell_type": "code",
   "execution_count": 9,
   "metadata": {},
   "outputs": [
    {
     "name": "stdout",
     "output_type": "stream",
     "text": [
      "30 Article summaries found. Sample:\n",
      "S3 Strong Consistency\n"
     ]
    }
   ],
   "source": [
    "# Find all articles, extract titles\n",
    "articles = []\n",
    "summaries = soup.find_all(\"tr\", class_=\"athing\")\n",
    "for summary in summaries:\n",
    "    title = summary.find(\"a\", class_=\"storylink\").get_text().strip()\n",
    "    articles.append((title))\n",
    "\n",
    "print(len(articles), \"Article summaries found. Sample:\")\n",
    "print(articles[0])"
   ]
  },
  {
   "cell_type": "markdown",
   "metadata": {
    "collapsed": true
   },
   "source": [
    "## Normalization"
   ]
  },
  {
   "cell_type": "markdown",
   "metadata": {},
   "source": [
    "### Case Normalization"
   ]
  },
  {
   "cell_type": "code",
   "execution_count": 13,
   "metadata": {},
   "outputs": [
    {
     "name": "stdout",
     "output_type": "stream",
     "text": [
      "The first time you see The Second Renaissance it may look boring. Look at it at least twice and definitely watch part 2. It will change your view of the matrix. Are the human people the ones who started the war ? Is AI a bad thing ?\n"
     ]
    }
   ],
   "source": [
    "# Sample text\n",
    "text = \"The first time you see The Second Renaissance it may look boring. Look at it at least twice and definitely watch part 2. It will change your view of the matrix. Are the human people the ones who started the war ? Is AI a bad thing ?\"\n",
    "print(text)"
   ]
  },
  {
   "cell_type": "code",
   "execution_count": 14,
   "metadata": {},
   "outputs": [
    {
     "name": "stdout",
     "output_type": "stream",
     "text": [
      "the first time you see the second renaissance it may look boring. look at it at least twice and definitely watch part 2. it will change your view of the matrix. are the human people the ones who started the war ? is ai a bad thing ?\n"
     ]
    }
   ],
   "source": [
    "# Convert to lowercase\n",
    "text = text.lower() \n",
    "print(text)"
   ]
  },
  {
   "cell_type": "markdown",
   "metadata": {},
   "source": [
    "### Punctuation Removal"
   ]
  },
  {
   "cell_type": "code",
   "execution_count": 15,
   "metadata": {},
   "outputs": [
    {
     "name": "stdout",
     "output_type": "stream",
     "text": [
      "the first time you see the second renaissance it may look boring  look at it at least twice and definitely watch part 2  it will change your view of the matrix  are the human people the ones who started the war   is ai a bad thing  \n"
     ]
    }
   ],
   "source": [
    "import re\n",
    "\n",
    "# Remove punctuation characters\n",
    "text = re.sub(r\"[^a-zA-Z0-9]\", \" \", text) \n",
    "print(text)"
   ]
  },
  {
   "cell_type": "markdown",
   "metadata": {},
   "source": [
    "## Tokenization"
   ]
  },
  {
   "cell_type": "code",
   "execution_count": 16,
   "metadata": {},
   "outputs": [
    {
     "name": "stdout",
     "output_type": "stream",
     "text": [
      "['the', 'first', 'time', 'you', 'see', 'the', 'second', 'renaissance', 'it', 'may', 'look', 'boring', 'look', 'at', 'it', 'at', 'least', 'twice', 'and', 'definitely', 'watch', 'part', '2', 'it', 'will', 'change', 'your', 'view', 'of', 'the', 'matrix', 'are', 'the', 'human', 'people', 'the', 'ones', 'who', 'started', 'the', 'war', 'is', 'ai', 'a', 'bad', 'thing']\n"
     ]
    }
   ],
   "source": [
    "# Split text into tokens (words)\n",
    "words = text.split()\n",
    "print(words)"
   ]
  },
  {
   "cell_type": "markdown",
   "metadata": {},
   "source": [
    "### NLTK: Natural Language ToolKit"
   ]
  },
  {
   "cell_type": "code",
   "execution_count": 17,
   "metadata": {},
   "outputs": [],
   "source": [
    "import os\n",
    "import nltk\n",
    "nltk.data.path.append(os.path.join(os.getcwd(), \"nltk_data\"))"
   ]
  },
  {
   "cell_type": "code",
   "execution_count": 18,
   "metadata": {},
   "outputs": [
    {
     "name": "stdout",
     "output_type": "stream",
     "text": [
      "Dr. Smith graduated from the University of Washington. He later started an analytics firm called Lux, which catered to enterprise customers.\n"
     ]
    }
   ],
   "source": [
    "# Another sample text\n",
    "text = \"Dr. Smith graduated from the University of Washington. He later started an analytics firm called Lux, which catered to enterprise customers.\"\n",
    "print(text)"
   ]
  },
  {
   "cell_type": "code",
   "execution_count": 19,
   "metadata": {},
   "outputs": [
    {
     "name": "stdout",
     "output_type": "stream",
     "text": [
      "['Dr.', 'Smith', 'graduated', 'from', 'the', 'University', 'of', 'Washington', '.', 'He', 'later', 'started', 'an', 'analytics', 'firm', 'called', 'Lux', ',', 'which', 'catered', 'to', 'enterprise', 'customers', '.']\n"
     ]
    }
   ],
   "source": [
    "from nltk.tokenize import word_tokenize\n",
    "\n",
    "# Split text into words using NLTK\n",
    "words = word_tokenize(text)\n",
    "print(words)"
   ]
  },
  {
   "cell_type": "code",
   "execution_count": 20,
   "metadata": {},
   "outputs": [
    {
     "name": "stdout",
     "output_type": "stream",
     "text": [
      "['Dr. Smith graduated from the University of Washington.', 'He later started an analytics firm called Lux, which catered to enterprise customers.']\n"
     ]
    }
   ],
   "source": [
    "from nltk.tokenize import sent_tokenize\n",
    "\n",
    "# Split text into sentences\n",
    "sentences = sent_tokenize(text)\n",
    "print(sentences)"
   ]
  },
  {
   "cell_type": "code",
   "execution_count": 21,
   "metadata": {},
   "outputs": [
    {
     "name": "stdout",
     "output_type": "stream",
     "text": [
      "['i', 'me', 'my', 'myself', 'we', 'our', 'ours', 'ourselves', 'you', \"you're\", \"you've\", \"you'll\", \"you'd\", 'your', 'yours', 'yourself', 'yourselves', 'he', 'him', 'his', 'himself', 'she', \"she's\", 'her', 'hers', 'herself', 'it', \"it's\", 'its', 'itself', 'they', 'them', 'their', 'theirs', 'themselves', 'what', 'which', 'who', 'whom', 'this', 'that', \"that'll\", 'these', 'those', 'am', 'is', 'are', 'was', 'were', 'be', 'been', 'being', 'have', 'has', 'had', 'having', 'do', 'does', 'did', 'doing', 'a', 'an', 'the', 'and', 'but', 'if', 'or', 'because', 'as', 'until', 'while', 'of', 'at', 'by', 'for', 'with', 'about', 'against', 'between', 'into', 'through', 'during', 'before', 'after', 'above', 'below', 'to', 'from', 'up', 'down', 'in', 'out', 'on', 'off', 'over', 'under', 'again', 'further', 'then', 'once', 'here', 'there', 'when', 'where', 'why', 'how', 'all', 'any', 'both', 'each', 'few', 'more', 'most', 'other', 'some', 'such', 'no', 'nor', 'not', 'only', 'own', 'same', 'so', 'than', 'too', 'very', 's', 't', 'can', 'will', 'just', 'don', \"don't\", 'should', \"should've\", 'now', 'd', 'll', 'm', 'o', 're', 've', 'y', 'ain', 'aren', \"aren't\", 'couldn', \"couldn't\", 'didn', \"didn't\", 'doesn', \"doesn't\", 'hadn', \"hadn't\", 'hasn', \"hasn't\", 'haven', \"haven't\", 'isn', \"isn't\", 'ma', 'mightn', \"mightn't\", 'mustn', \"mustn't\", 'needn', \"needn't\", 'shan', \"shan't\", 'shouldn', \"shouldn't\", 'wasn', \"wasn't\", 'weren', \"weren't\", 'won', \"won't\", 'wouldn', \"wouldn't\"]\n"
     ]
    }
   ],
   "source": [
    "# List stop words\n",
    "from nltk.corpus import stopwords\n",
    "print(stopwords.words(\"english\"))"
   ]
  },
  {
   "cell_type": "code",
   "execution_count": 22,
   "metadata": {},
   "outputs": [
    {
     "name": "stdout",
     "output_type": "stream",
     "text": [
      "['the', 'first', 'time', 'you', 'see', 'the', 'second', 'renaissance', 'it', 'may', 'look', 'boring', 'look', 'at', 'it', 'at', 'least', 'twice', 'and', 'definitely', 'watch', 'part', '2', 'it', 'will', 'change', 'your', 'view', 'of', 'the', 'matrix', 'are', 'the', 'human', 'people', 'the', 'ones', 'who', 'started', 'the', 'war', 'is', 'ai', 'a', 'bad', 'thing']\n"
     ]
    }
   ],
   "source": [
    "# Reset text\n",
    "text = \"The first time you see The Second Renaissance it may look boring. Look at it at least twice and definitely watch part 2. It will change your view of the matrix. Are the human people the ones who started the war ? Is AI a bad thing ?\"\n",
    "\n",
    "# Normalize it\n",
    "text = re.sub(r\"[^a-zA-Z0-9]\", \" \", text.lower())\n",
    "\n",
    "# Tokenize it\n",
    "words = text.split()\n",
    "print(words)"
   ]
  },
  {
   "cell_type": "code",
   "execution_count": 23,
   "metadata": {},
   "outputs": [
    {
     "name": "stdout",
     "output_type": "stream",
     "text": [
      "['first', 'time', 'see', 'second', 'renaissance', 'may', 'look', 'boring', 'look', 'least', 'twice', 'definitely', 'watch', 'part', '2', 'change', 'view', 'matrix', 'human', 'people', 'ones', 'started', 'war', 'ai', 'bad', 'thing']\n"
     ]
    }
   ],
   "source": [
    "# Remove stop words\n",
    "words = [w for w in words if w not in stopwords.words(\"english\")]\n",
    "print(words)"
   ]
  },
  {
   "cell_type": "markdown",
   "metadata": {},
   "source": [
    "### Sentence Parsing"
   ]
  },
  {
   "cell_type": "code",
   "execution_count": 24,
   "metadata": {},
   "outputs": [
    {
     "name": "stdout",
     "output_type": "stream",
     "text": [
      "(S\n",
      "  (NP I)\n",
      "  (VP\n",
      "    (VP (V shot) (NP (Det an) (N elephant)))\n",
      "    (PP (P in) (NP (Det my) (N pajamas)))))\n",
      "(S\n",
      "  (NP I)\n",
      "  (VP\n",
      "    (V shot)\n",
      "    (NP (Det an) (N elephant) (PP (P in) (NP (Det my) (N pajamas))))))\n"
     ]
    }
   ],
   "source": [
    "import nltk\n",
    "\n",
    "# Define a custom grammar\n",
    "my_grammar = nltk.CFG.fromstring(\"\"\"\n",
    "S -> NP VP\n",
    "PP -> P NP\n",
    "NP -> Det N | Det N PP | 'I'\n",
    "VP -> V NP | VP PP\n",
    "Det -> 'an' | 'my'\n",
    "N -> 'elephant' | 'pajamas'\n",
    "V -> 'shot'\n",
    "P -> 'in'\n",
    "\"\"\")\n",
    "parser = nltk.ChartParser(my_grammar)\n",
    "\n",
    "# Parse a sentence\n",
    "sentence = word_tokenize(\"I shot an elephant in my pajamas\")\n",
    "for tree in parser.parse(sentence):\n",
    "    print(tree)"
   ]
  },
  {
   "cell_type": "markdown",
   "metadata": {},
   "source": [
    "## Stemming & Lemmatization\n",
    "\n",
    "### Stemming"
   ]
  },
  {
   "cell_type": "code",
   "execution_count": 25,
   "metadata": {},
   "outputs": [
    {
     "name": "stdout",
     "output_type": "stream",
     "text": [
      "['first', 'time', 'see', 'second', 'renaiss', 'may', 'look', 'bore', 'look', 'least', 'twice', 'definit', 'watch', 'part', '2', 'chang', 'view', 'matrix', 'human', 'peopl', 'one', 'start', 'war', 'ai', 'bad', 'thing']\n"
     ]
    }
   ],
   "source": [
    "from nltk.stem.porter import PorterStemmer\n",
    "\n",
    "# Reduce words to their stems\n",
    "stemmed = [PorterStemmer().stem(w) for w in words]\n",
    "print(stemmed)"
   ]
  },
  {
   "cell_type": "markdown",
   "metadata": {},
   "source": [
    "### Lemmatization"
   ]
  },
  {
   "cell_type": "code",
   "execution_count": 26,
   "metadata": {},
   "outputs": [
    {
     "name": "stdout",
     "output_type": "stream",
     "text": [
      "['first', 'time', 'see', 'second', 'renaissance', 'may', 'look', 'boring', 'look', 'least', 'twice', 'definitely', 'watch', 'part', '2', 'change', 'view', 'matrix', 'human', 'people', 'one', 'started', 'war', 'ai', 'bad', 'thing']\n"
     ]
    }
   ],
   "source": [
    "from nltk.stem.wordnet import WordNetLemmatizer\n",
    "\n",
    "# Reduce words to their root form\n",
    "lemmed = [WordNetLemmatizer().lemmatize(w) for w in words]\n",
    "print(lemmed)"
   ]
  },
  {
   "cell_type": "code",
   "execution_count": 27,
   "metadata": {},
   "outputs": [
    {
     "name": "stdout",
     "output_type": "stream",
     "text": [
      "['first', 'time', 'see', 'second', 'renaissance', 'may', 'look', 'bore', 'look', 'least', 'twice', 'definitely', 'watch', 'part', '2', 'change', 'view', 'matrix', 'human', 'people', 'one', 'start', 'war', 'ai', 'bad', 'thing']\n"
     ]
    }
   ],
   "source": [
    "# Lemmatize verbs by specifying pos\n",
    "lemmed = [WordNetLemmatizer().lemmatize(w, pos='v') for w in lemmed]\n",
    "print(lemmed)"
   ]
  },
  {
   "cell_type": "code",
   "execution_count": null,
   "metadata": {},
   "outputs": [],
   "source": []
  }
 ],
 "metadata": {
  "kernelspec": {
   "display_name": "Python 3",
   "language": "python",
   "name": "python3"
  },
  "language_info": {
   "codemirror_mode": {
    "name": "ipython",
    "version": 3
   },
   "file_extension": ".py",
   "mimetype": "text/x-python",
   "name": "python",
   "nbconvert_exporter": "python",
   "pygments_lexer": "ipython3",
   "version": "3.6.3"
  }
 },
 "nbformat": 4,
 "nbformat_minor": 2
}
